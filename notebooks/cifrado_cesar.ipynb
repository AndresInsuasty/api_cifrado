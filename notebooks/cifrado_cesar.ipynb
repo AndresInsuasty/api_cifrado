{
 "cells": [
  {
   "cell_type": "markdown",
   "metadata": {},
   "source": [
    "## Cifrado Cesar\n",
    "\n",
    "Aqui se muestra un ejemplo de cifrado cesar"
   ]
  },
  {
   "cell_type": "code",
   "execution_count": 14,
   "metadata": {},
   "outputs": [
    {
     "name": "stdout",
     "output_type": "stream",
     "text": [
      "HVWH HV XP PLQR!\n",
      "ESTE ES UN NIÑO!\n"
     ]
    }
   ],
   "source": [
    "def cifrado_cesar(texto, clave):\n",
    "    # alfabeto\n",
    "    alfabeto = \"ABCDEFGHIJKLMNÑOPQRSTUVWXYZ\"\n",
    "    # texto cifrado\n",
    "    texto_cifrado = \"\"\n",
    "    # recorrer texto\n",
    "    for letra in texto.upper():\n",
    "        # si la letra está en el alfabeto\n",
    "        if letra in alfabeto:\n",
    "            # obtener posición de la letra en el alfabeto\n",
    "            posicion = alfabeto.index(letra)\n",
    "            # obtener nueva posición\n",
    "            nueva_posicion = (posicion + clave) % len(alfabeto)\n",
    "            # obtener nueva letra\n",
    "            nueva_letra = alfabeto[nueva_posicion]\n",
    "            # añadir nueva letra al texto cifrado\n",
    "            texto_cifrado += nueva_letra\n",
    "        else:\n",
    "            # añadir letra al texto cifrado\n",
    "            texto_cifrado += letra\n",
    "    # devolver texto cifrado\n",
    "    return texto_cifrado\n",
    "\n",
    "\n",
    "texto_cifrado = cifrado_cesar(\"este es un niño!\", 3)\n",
    "print(texto_cifrado)\n",
    "texto_original = cifrado_cesar(texto_cifrado, -3)\n",
    "print(texto_original)\n"
   ]
  },
  {
   "cell_type": "code",
   "execution_count": 16,
   "metadata": {},
   "outputs": [
    {
     "name": "stdout",
     "output_type": "stream",
     "text": [
      "b'Hola, mundo!'\n"
     ]
    }
   ],
   "source": [
    "mensaje_original = \"Hola, mundo!\"\n",
    "mensaje_bytes = mensaje_original.encode()\n",
    "print(mensaje_bytes)"
   ]
  },
  {
   "cell_type": "code",
   "execution_count": 21,
   "metadata": {},
   "outputs": [
    {
     "name": "stdout",
     "output_type": "stream",
     "text": [
      "Texto cifrado: b',\\x06J\\xdf+>H\\x04W\\xae^4I\\x155@\\x1c\\xc1\\x1a8\\x84\\xa8W7D\\xccm\\xd9\\xf6\\xbb,6\\x1a3\\xf8H\\x7f6\\xb9\\xfc\\xb7\\xd0D\\xa2)}\\x03s'\n",
      "Texto descifrado: Hello, this is a secret message!\n"
     ]
    }
   ],
   "source": [
    "from Crypto.Cipher import AES\n",
    "from Crypto.Random import get_random_bytes\n",
    "from Crypto.Util.Padding import pad, unpad\n",
    "\n",
    "# Definir la clave y el IV (vector de inicialización)\n",
    "key = get_random_bytes(16)  # AES-128 (16 bytes)\n",
    "iv = get_random_bytes(16)\n",
    "\n",
    "# Crear el cifrador AES en modo CBC\n",
    "cipher = AES.new(key, AES.MODE_CBC, iv)\n",
    "\n",
    "# Datos a cifrar (debe ser un múltiplo de 16 bytes en AES)\n",
    "data = b\"Hello, this is a secret message!\"\n",
    "\n",
    "# Rellenar los datos para que sean un múltiplo de 16 bytes\n",
    "padded_data = pad(data, AES.block_size)\n",
    "\n",
    "# Cifrar los datos\n",
    "cipher_text = cipher.encrypt(padded_data)\n",
    "\n",
    "# Imprimir el texto cifrado\n",
    "print(\"Texto cifrado:\", cipher_text)\n",
    "\n",
    "# Descifrar los datos\n",
    "decipher = AES.new(key, AES.MODE_CBC, iv)\n",
    "decrypted_data = unpad(decipher.decrypt(cipher_text), AES.block_size)\n",
    "\n",
    "# Imprimir el texto descifrado\n",
    "print(\"Texto descifrado:\", decrypted_data.decode('utf-8'))"
   ]
  },
  {
   "cell_type": "code",
   "execution_count": 32,
   "metadata": {},
   "outputs": [
    {
     "name": "stdout",
     "output_type": "stream",
     "text": [
      "Mensaje original: b'a'\n",
      "Mensaje cifrado: b'gAAAAABk1E7Pc_bRTMRxUpksjgPlbuHwqAOew6Pl7gW1Hxgzy8OpUYVH9jR802K0cc5yH2zlGJ2dK23zmgnfpzUlhc_HMFgqJQ=='\n",
      "Mensaje descifrado: a\n",
      "Clave: b'UyJ4iWnYDPOcZ3sCmwNZtKbIudZRYl5n7owVTiQ4r3o='\n"
     ]
    }
   ],
   "source": [
    "from cryptography.fernet import Fernet\n",
    "\n",
    "# Generar una clave aleatoria para el cifrado\n",
    "#clave = Fernet.generate_key()\n",
    "clave = b'UyJ4iWnYDPOcZ3sCmwNZtKbIudZRYl5n7owVTiQ4r3o='\n",
    "# Crear un objeto Fernet con la clave generada\n",
    "cipher_suite = Fernet(clave)\n",
    "\n",
    "# Mensaje que deseas cifrar\n",
    "mensaje_original = b\"a\"\n",
    "\n",
    "# Cifrar el mensaje\n",
    "mensaje_cifrado = cipher_suite.encrypt(mensaje_original)\n",
    "\n",
    "print(\"Mensaje original:\", mensaje_original)\n",
    "print(\"Mensaje cifrado:\", mensaje_cifrado)\n",
    "\n",
    "# Descifrar el mensaje\n",
    "mensaje_descifrado = cipher_suite.decrypt(mensaje_cifrado)\n",
    "\n",
    "print(\"Mensaje descifrado:\", mensaje_descifrado.decode())\n",
    "print(\"Clave:\", clave)"
   ]
  },
  {
   "cell_type": "code",
   "execution_count": 36,
   "metadata": {},
   "outputs": [
    {
     "name": "stdout",
     "output_type": "stream",
     "text": [
      "Mensaje: 1085324082n\n",
      "Hash SHA-256: b39ddc62ede683fb4075ba1c7950c93bd637c483bd1d58a0d114ea3e4e564dcf\n"
     ]
    }
   ],
   "source": [
    "import hashlib\n",
    "\n",
    "# Mensaje que deseas hashear\n",
    "mensaje = b\"1085324082\"+b'n'\n",
    "\n",
    "# Crear un objeto hash usando SHA-256\n",
    "hash_object = hashlib.sha256()\n",
    "\n",
    "# Actualizar el objeto hash con el mensaje\n",
    "hash_object.update(mensaje)\n",
    "\n",
    "# Obtener el hash en formato hexadecimal\n",
    "hash_result = hash_object.hexdigest()\n",
    "\n",
    "print(\"Mensaje:\", mensaje.decode())\n",
    "print(\"Hash SHA-256:\", hash_result)\n"
   ]
  },
  {
   "cell_type": "code",
   "execution_count": null,
   "metadata": {},
   "outputs": [],
   "source": []
  }
 ],
 "metadata": {
  "kernelspec": {
   "display_name": "venv",
   "language": "python",
   "name": "python3"
  },
  "language_info": {
   "codemirror_mode": {
    "name": "ipython",
    "version": 3
   },
   "file_extension": ".py",
   "mimetype": "text/x-python",
   "name": "python",
   "nbconvert_exporter": "python",
   "pygments_lexer": "ipython3",
   "version": "3.10.4"
  },
  "orig_nbformat": 4
 },
 "nbformat": 4,
 "nbformat_minor": 2
}
